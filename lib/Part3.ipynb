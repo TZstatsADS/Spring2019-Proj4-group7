{
 "cells": [
  {
   "cell_type": "code",
   "execution_count": 1,
   "metadata": {},
   "outputs": [],
   "source": [
    "import re\n",
    "\n",
    "def isClean(cur_token):\n",
    "    \n",
    "    # Words longer than 20 chars is garbage\n",
    "    if len(cur_token) > 20:\n",
    "        return False\n",
    "    \n",
    "    # Number of punctuation in string is greater \n",
    "    # than number of alpha numeric characters\n",
    "    alphanum = re.findall(\"[A-Za-z0-9]\", cur_token)\n",
    "    punc = re.findall(\"[^A-Za-z0-9]\", cur_token)\n",
    "    if len(punc) > len(alphanum):\n",
    "        return False\n",
    "    \n",
    "    # ignoring first and last, if there are two or more \n",
    "    # different punctuation\n",
    "    uniquepunc = len(set(re.findall(\"[^A-Za-z0-9]\", cur_token[1:-1] )))\n",
    "    if uniquepunc > 1:\n",
    "        return False\n",
    "\n",
    "    # if 3 identical characters in a row\n",
    "    tmp4 = re.findall(\"([a-z\\\\d])\\\\1\\\\1\", cur_token)\n",
    "    if tmp4:\n",
    "        return False\n",
    "    \n",
    "    # if num upper case is greater than num lowercase\n",
    "    # and word is not all uppercase\n",
    "    upper = re.findall(\"[A-Z]\", cur_token)\n",
    "    lower = re.findall(\"[a-z]\", cur_token)\n",
    "    if (len(upper) > len(lower)) and (len(upper) != len(cur_token)):\n",
    "        return False\n",
    "    \n",
    "    # if all characters are alphabetic\n",
    "    # and num constants is greater than 8 times the vowels\n",
    "    # or vice versa\n",
    "    vowels = re.findall(\"[AEIOUaeiou]\", cur_token)\n",
    "    constants = re.findall(\"[^AEIOUaeiou]\", cur_token)\n",
    "    if cur_token.isalpha() and (len(vowels) > len(constants) * 8 or len(constants) > len(vowels) * 8):\n",
    "        return False\n",
    "    \n",
    "    # four or more consecutive vowels or 5 or more consecutive constants\n",
    "    tmpv = re.findall(\"[AEIOUaeiou]{4,}\", cur_token)\n",
    "    tmpc = re.findall(\"[^AEIOUaeiou]{5,}\", cur_token)\n",
    "    if tmpv or tmpc:\n",
    "        return False\n",
    "    \n",
    "    # if first and last chars are both lower case an any character upper\n",
    "    lower_ends = cur_token[0] + cur_token[-1]\n",
    "    if lower_ends.islower() and not cur_token.islower():\n",
    "        return False\n",
    "    \n",
    "    # if normal word\n",
    "    return True"
   ]
  },
  {
   "cell_type": "code",
   "execution_count": 2,
   "metadata": {},
   "outputs": [],
   "source": [
    "# read each file\n",
    "import glob\n",
    "arr = []\n",
    "name = []\n",
    "for file in list(glob.glob('../data/tesseract/*.txt')):                                       \n",
    "    reader = open(file)    \n",
    "    text = reader.read()\n",
    "    arr.append(text)\n",
    "    name.append(file)"
   ]
  },
  {
   "cell_type": "code",
   "execution_count": 14,
   "metadata": {},
   "outputs": [],
   "source": [
    "# split words and select trash words\n",
    "trash = []\n",
    "for file in arr:\n",
    "    garbage = []\n",
    "    text = file.strip().split()\n",
    "    #garbage = [x for x in text if isClean(x) == False]\n",
    "    #print(len(text))\n",
    "    for count, word in enumerate(text):\n",
    "        #print (count)\n",
    "        #if the word is garbage\n",
    "        if isClean(word) == False:\n",
    "            # if first word\n",
    "            if count == 0:\n",
    "                # append current word and next\n",
    "                garbage.append((word, text[count + 1]))\n",
    "            #if last word\n",
    "            elif count == len(text) - 1:\n",
    "                garbage.append((text[count - 1], word))\n",
    "            #other wise\n",
    "            else:\n",
    "                garbage.append((text[count - 1], word, text[count + 1]))\n",
    "            \n",
    "    trash.append(garbage)"
   ]
  },
  {
   "cell_type": "markdown",
   "metadata": {},
   "source": [
    "port to csv file"
   ]
  },
  {
   "cell_type": "code",
   "execution_count": 15,
   "metadata": {},
   "outputs": [],
   "source": [
    "import pandas as pd\n",
    "df = pd.DataFrame([name, arr, trash]).transpose()"
   ]
  },
  {
   "cell_type": "code",
   "execution_count": 16,
   "metadata": {},
   "outputs": [
    {
     "data": {
      "text/html": [
       "<div>\n",
       "<style scoped>\n",
       "    .dataframe tbody tr th:only-of-type {\n",
       "        vertical-align: middle;\n",
       "    }\n",
       "\n",
       "    .dataframe tbody tr th {\n",
       "        vertical-align: top;\n",
       "    }\n",
       "\n",
       "    .dataframe thead th {\n",
       "        text-align: right;\n",
       "    }\n",
       "</style>\n",
       "<table border=\"1\" class=\"dataframe\">\n",
       "  <thead>\n",
       "    <tr style=\"text-align: right;\">\n",
       "      <th></th>\n",
       "      <th>0</th>\n",
       "      <th>1</th>\n",
       "      <th>2</th>\n",
       "    </tr>\n",
       "  </thead>\n",
       "  <tbody>\n",
       "    <tr>\n",
       "      <th>0</th>\n",
       "      <td>../data/tesseract/group5_00000009_5.txt</td>\n",
       "      <td>communlcatlons network. Member companles are s...</td>\n",
       "      <td>[(provlde, thls, needed), (new, CMA/LINC, comp...</td>\n",
       "    </tr>\n",
       "    <tr>\n",
       "      <th>1</th>\n",
       "      <td>../data/tesseract/group5_00000012_6.txt</td>\n",
       "      <td>general publlc. am has been meetlng Hlth congr...</td>\n",
       "      <td>[(general, publlc., am), (meetlng, Hlth, congr...</td>\n",
       "    </tr>\n",
       "    <tr>\n",
       "      <th>2</th>\n",
       "      <td>../data/tesseract/group4_00000009_1.txt</td>\n",
       "      <td>AGENDA\\nMEETING 017 THE cm BOARD 017 ummmns\\nM...</td>\n",
       "      <td>[(THE, cm, BOARD), (017, ummmns, Monday), (Hea...</td>\n",
       "    </tr>\n",
       "    <tr>\n",
       "      <th>3</th>\n",
       "      <td>../data/tesseract/group5_00000012_7.txt</td>\n",
       "      <td>24\\nCMA 039755\\nthere are 94 actlve partlclpan...</td>\n",
       "      <td>[(CMA, 039755, there), (actlve, partlclpants, ...</td>\n",
       "    </tr>\n",
       "    <tr>\n",
       "      <th>4</th>\n",
       "      <td>../data/tesseract/group5_00000009_4.txt</td>\n",
       "      <td>member company actlons m 1mprove the effectlve...</td>\n",
       "      <td>[(actlons, m, 1mprove), (all, (:1:, programs),...</td>\n",
       "    </tr>\n",
       "  </tbody>\n",
       "</table>\n",
       "</div>"
      ],
      "text/plain": [
       "                                         0  \\\n",
       "0  ../data/tesseract/group5_00000009_5.txt   \n",
       "1  ../data/tesseract/group5_00000012_6.txt   \n",
       "2  ../data/tesseract/group4_00000009_1.txt   \n",
       "3  ../data/tesseract/group5_00000012_7.txt   \n",
       "4  ../data/tesseract/group5_00000009_4.txt   \n",
       "\n",
       "                                                   1  \\\n",
       "0  communlcatlons network. Member companles are s...   \n",
       "1  general publlc. am has been meetlng Hlth congr...   \n",
       "2  AGENDA\\nMEETING 017 THE cm BOARD 017 ummmns\\nM...   \n",
       "3  24\\nCMA 039755\\nthere are 94 actlve partlclpan...   \n",
       "4  member company actlons m 1mprove the effectlve...   \n",
       "\n",
       "                                                   2  \n",
       "0  [(provlde, thls, needed), (new, CMA/LINC, comp...  \n",
       "1  [(general, publlc., am), (meetlng, Hlth, congr...  \n",
       "2  [(THE, cm, BOARD), (017, ummmns, Monday), (Hea...  \n",
       "3  [(CMA, 039755, there), (actlve, partlclpants, ...  \n",
       "4  [(actlons, m, 1mprove), (all, (:1:, programs),...  "
      ]
     },
     "execution_count": 16,
     "metadata": {},
     "output_type": "execute_result"
    }
   ],
   "source": [
    "df.head()"
   ]
  },
  {
   "cell_type": "code",
   "execution_count": 17,
   "metadata": {},
   "outputs": [],
   "source": [
    "df.to_csv(\"../output/output.csv\")"
   ]
  },
  {
   "cell_type": "code",
   "execution_count": 18,
   "metadata": {},
   "outputs": [
    {
     "ename": "AttributeError",
     "evalue": "'DataFrame' object has no attribute 'read_csv'",
     "output_type": "error",
     "traceback": [
      "\u001b[0;31m---------------------------------------------------------------------------\u001b[0m",
      "\u001b[0;31mAttributeError\u001b[0m                            Traceback (most recent call last)",
      "\u001b[0;32m<ipython-input-18-c705fca2a72c>\u001b[0m in \u001b[0;36m<module>\u001b[0;34m\u001b[0m\n\u001b[0;32m----> 1\u001b[0;31m \u001b[0mdf\u001b[0m\u001b[0;34m.\u001b[0m\u001b[0mread_csv\u001b[0m\u001b[0;34m(\u001b[0m\u001b[0;34m\"../output/output.csv\"\u001b[0m\u001b[0;34m)\u001b[0m\u001b[0;34m\u001b[0m\u001b[0;34m\u001b[0m\u001b[0m\n\u001b[0m",
      "\u001b[0;32m/anaconda3/envs/tensorflow/lib/python3.6/site-packages/pandas/core/generic.py\u001b[0m in \u001b[0;36m__getattr__\u001b[0;34m(self, name)\u001b[0m\n\u001b[1;32m   4374\u001b[0m             \u001b[0;32mif\u001b[0m \u001b[0mself\u001b[0m\u001b[0;34m.\u001b[0m\u001b[0m_info_axis\u001b[0m\u001b[0;34m.\u001b[0m\u001b[0m_can_hold_identifiers_and_holds_name\u001b[0m\u001b[0;34m(\u001b[0m\u001b[0mname\u001b[0m\u001b[0;34m)\u001b[0m\u001b[0;34m:\u001b[0m\u001b[0;34m\u001b[0m\u001b[0;34m\u001b[0m\u001b[0m\n\u001b[1;32m   4375\u001b[0m                 \u001b[0;32mreturn\u001b[0m \u001b[0mself\u001b[0m\u001b[0;34m[\u001b[0m\u001b[0mname\u001b[0m\u001b[0;34m]\u001b[0m\u001b[0;34m\u001b[0m\u001b[0;34m\u001b[0m\u001b[0m\n\u001b[0;32m-> 4376\u001b[0;31m             \u001b[0;32mreturn\u001b[0m \u001b[0mobject\u001b[0m\u001b[0;34m.\u001b[0m\u001b[0m__getattribute__\u001b[0m\u001b[0;34m(\u001b[0m\u001b[0mself\u001b[0m\u001b[0;34m,\u001b[0m \u001b[0mname\u001b[0m\u001b[0;34m)\u001b[0m\u001b[0;34m\u001b[0m\u001b[0;34m\u001b[0m\u001b[0m\n\u001b[0m\u001b[1;32m   4377\u001b[0m \u001b[0;34m\u001b[0m\u001b[0m\n\u001b[1;32m   4378\u001b[0m     \u001b[0;32mdef\u001b[0m \u001b[0m__setattr__\u001b[0m\u001b[0;34m(\u001b[0m\u001b[0mself\u001b[0m\u001b[0;34m,\u001b[0m \u001b[0mname\u001b[0m\u001b[0;34m,\u001b[0m \u001b[0mvalue\u001b[0m\u001b[0;34m)\u001b[0m\u001b[0;34m:\u001b[0m\u001b[0;34m\u001b[0m\u001b[0;34m\u001b[0m\u001b[0m\n",
      "\u001b[0;31mAttributeError\u001b[0m: 'DataFrame' object has no attribute 'read_csv'"
     ]
    }
   ],
   "source": [
    "pd.read_csv(\"../output/output.csv\")"
   ]
  }
 ],
 "metadata": {
  "kernelspec": {
   "display_name": "Python 3",
   "language": "python",
   "name": "python3"
  },
  "language_info": {
   "codemirror_mode": {
    "name": "ipython",
    "version": 3
   },
   "file_extension": ".py",
   "mimetype": "text/x-python",
   "name": "python",
   "nbconvert_exporter": "python",
   "pygments_lexer": "ipython3",
   "version": "3.6.8"
  }
 },
 "nbformat": 4,
 "nbformat_minor": 2
}

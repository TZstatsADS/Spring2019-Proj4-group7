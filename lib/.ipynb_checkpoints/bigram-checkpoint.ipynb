{
 "cells": [
  {
   "cell_type": "code",
   "execution_count": null,
   "metadata": {},
   "outputs": [],
   "source": [
    "# 1-gram\n",
    "from sklearn.feature_extraction.text import CountVectorizer\n",
    "bigram_vectorizer1 = CountVectorizer(ngram_range=(1, 1),\n",
    "                                    token_pattern=r'\\b\\w+\\b')\n",
    "X1 = bigram_vectorizer1.fit_transform(sentence)\n",
    "X1.toarray()\n",
    "\n",
    "bigram_vectorizer1.get_feature_names()\n",
    "\n"
   ]
  },
  {
   "cell_type": "code",
   "execution_count": null,
   "metadata": {},
   "outputs": [],
   "source": []
  },
  {
   "cell_type": "code",
   "execution_count": null,
   "metadata": {},
   "outputs": [],
   "source": [
    "import pandas as pd\n",
    "df1 = pd.DataFrame(X1.toarray())\n",
    "df1.columns = bigram_vectorizer1.get_feature_names()\n",
    "df1.sum()\n",
    "#df1"
   ]
  },
  {
   "cell_type": "code",
   "execution_count": null,
   "metadata": {},
   "outputs": [],
   "source": [
    "# bigram \n",
    "from sklearn.feature_extraction.text import CountVectorizer\n",
    "bigram_vectorizer2 = CountVectorizer(ngram_range=(2, 2),\n",
    "                                    token_pattern=r'\\b\\w+\\b')\n",
    "X2 = bigram_vectorizer2.fit_transform(sentence)\n",
    "X2.toarray()\n",
    "\n",
    "bigram_vectorizer2.get_feature_names()\n"
   ]
  },
  {
   "cell_type": "code",
   "execution_count": null,
   "metadata": {},
   "outputs": [],
   "source": [
    "df2 = pd.DataFrame(X2.toarray())\n",
    "df2.columns = bigram_vectorizer2.get_feature_names()\n",
    "df2.sum()"
   ]
  }
 ],
 "metadata": {
  "kernelspec": {
   "display_name": "Python 3",
   "language": "python",
   "name": "python3"
  },
  "language_info": {
   "codemirror_mode": {
    "name": "ipython",
    "version": 3
   },
   "file_extension": ".py",
   "mimetype": "text/x-python",
   "name": "python",
   "nbconvert_exporter": "python",
   "pygments_lexer": "ipython3",
   "version": "3.7.1"
  }
 },
 "nbformat": 4,
 "nbformat_minor": 2
}

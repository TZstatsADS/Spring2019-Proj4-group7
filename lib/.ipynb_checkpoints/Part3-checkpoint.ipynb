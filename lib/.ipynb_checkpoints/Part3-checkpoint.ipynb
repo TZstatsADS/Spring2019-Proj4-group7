{
 "cells": [
  {
   "cell_type": "code",
   "execution_count": 96,
   "metadata": {},
   "outputs": [],
   "source": [
    "import re\n",
    "\n",
    "def isClean(cur_token):\n",
    "    \n",
    "    # Words longer than 20 chars is garbage\n",
    "    if len(cur_token) > 20:\n",
    "        return False\n",
    "    \n",
    "    # Number of punctuation in string is greater \n",
    "    # than number of alpha numeric characters\n",
    "    alphanum = re.findall(\"[A-Za-z0-9]\", cur_token)\n",
    "    punc = re.findall(\"[^A-Za-z0-9]\", cur_token)\n",
    "    if len(punc) > len(alphanum):\n",
    "        return False\n",
    "    \n",
    "    # ignoring first and last, if there are two or more \n",
    "    # different punctuation\n",
    "    uniquepunc = len(set(re.findall(\"[^A-Za-z0-9]\", cur_token[1:-1] )))\n",
    "    if uniquepunc > 1:\n",
    "        return False\n",
    "\n",
    "    # if 3 identical characters in a row\n",
    "    tmp4 = re.findall(\"([a-z\\\\d])\\\\1\\\\1\", cur_token)\n",
    "    if tmp4:\n",
    "        return False\n",
    "    \n",
    "    # if num upper case is greater than num lowercase\n",
    "    # and word is not all uppercase\n",
    "    upper = re.findall(\"[A-Z]\", cur_token)\n",
    "    lower = re.findall(\"[a-z]\", cur_token)\n",
    "    if (len(upper) > len(lower)) and (len(upper) != len(cur_token)):\n",
    "        return False\n",
    "    \n",
    "    # if all characters are alphabetic\n",
    "    # and num constants is greater than 8 times the vowels\n",
    "    # or vice versa\n",
    "    vowels = re.findall(\"[AEIOUaeiou]\", cur_token)\n",
    "    constants = re.findall(\"[^AEIOUaeiou]\", cur_token)\n",
    "    if cur_token.isalpha() and (len(vowels) > len(constants) * 8 or len(constants) > len(vowels) * 8):\n",
    "        return False\n",
    "    \n",
    "    # four or more consecutive vowels or 5 or more consecutive constants\n",
    "    tmpv = re.findall(\"[AEIOUaeiou]{4,}\", cur_token)\n",
    "    tmpc = re.findall(\"[^AEIOUaeiou]{5,}\", cur_token)\n",
    "    if tmpv or tmpc:\n",
    "        return False\n",
    "    \n",
    "    # if first and last chars are both lower case an any character upper\n",
    "    lower_ends = cur_token[0] + cur_token[-1]\n",
    "    if lower_ends.islower() and not cur_token.islower():\n",
    "        return False\n",
    "    \n",
    "    # if normal word\n",
    "    return True"
   ]
  }
 ],
 "metadata": {
  "kernelspec": {
   "display_name": "Python 3",
   "language": "python",
   "name": "python3"
  },
  "language_info": {
   "codemirror_mode": {
    "name": "ipython",
    "version": 3
   },
   "file_extension": ".py",
   "mimetype": "text/x-python",
   "name": "python",
   "nbconvert_exporter": "python",
   "pygments_lexer": "ipython3",
   "version": "3.6.8"
  }
 },
 "nbformat": 4,
 "nbformat_minor": 2
}
